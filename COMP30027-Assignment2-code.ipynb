{
 "cells": [
  {
   "cell_type": "markdown",
   "metadata": {},
   "source": [
    "##### The University of Melbourne, School of Computing and Information Systems\n",
    "# COMP30027 Machine Learning, 2022 Semester 1\n",
    "\n",
    "## Assignment 2: Sentiment Classification of Tweets\n",
    "\n",
    "This is a sample code to assist you with vectorising the 'Train' dataset for your assignment 2.\n",
    "\n",
    "First we read the CSV datafiles (Train and Test)."
   ]
  },
  {
   "cell_type": "code",
   "execution_count": 52,
   "metadata": {},
   "outputs": [],
   "source": [
    "# dependencies for data cleaning\n",
    "import pandas as pd\n",
    "import numpy as np\n",
    "import re\n",
    "import nltk\n",
    "import enchant\n",
    "from nltk.stem import PorterStemmer\n",
    "from sklearn.feature_extraction.text import TfidfVectorizer\n",
    "from sklearn.feature_extraction.text import CountVectorizer\n",
    "from imblearn.under_sampling import RandomUnderSampler"
   ]
  },
  {
   "cell_type": "code",
   "execution_count": 4,
   "metadata": {},
   "outputs": [],
   "source": [
    "train_data = pd.read_csv(\"Train.csv\", sep=',')\n",
    "test_data = pd.read_csv(\"Test.csv\", sep=',')"
   ]
  },
  {
   "cell_type": "markdown",
   "metadata": {},
   "source": [
    "Then we separate the tweet text and the label (sentiment). "
   ]
  },
  {
   "cell_type": "code",
   "execution_count": 5,
   "metadata": {},
   "outputs": [
    {
     "name": "stdout",
     "output_type": "stream",
     "text": [
      "Train length: 21802\n",
      "Test length: 6099\n"
     ]
    }
   ],
   "source": [
    "#separating instance and label for Train\n",
    "X_train_raw = [x[0] for x in train_data[['text']].values]\n",
    "Y_train = [x[0] for x in train_data[['sentiment']].values]\n",
    "\n",
    "# make Y_train a numpy array\n",
    "Y_train = np.array(Y_train)\n",
    "\n",
    "#check the result\n",
    "print(\"Train length:\",len(X_train_raw))\n",
    "\n",
    "#separating instance and label for Test\n",
    "X_test_raw = [x[0] for x in test_data[['text']].values]\n",
    "\n",
    "#check the result\n",
    "print(\"Test length:\",len(X_test_raw))"
   ]
  },
  {
   "cell_type": "code",
   "execution_count": 6,
   "metadata": {},
   "outputs": [
    {
     "name": "stdout",
     "output_type": "stream",
     "text": [
      "[' doctors hit campaign trail as race to medical council elections heats up https://t.co/iifdwb9v0w #homeopathy', ' is anybody going to the radio station tomorrow to see shawn? me and my friend may go but we would like to make new friends/meet there (:\\t', \" i just found out naruto didn't become the 5th hokage....\\t\", ' \"prince george reservist who died saturday just wanted to help people, his father tells @cbcnews http://t.co/riauzrjgre\"\\t', ' season in the sun versi nirvana rancak gak..slow rockkk...\\t']\n"
     ]
    }
   ],
   "source": [
    "#Let's see one example tweet\n",
    "print(X_train_raw[0:5])"
   ]
  },
  {
   "cell_type": "code",
   "execution_count": 10,
   "metadata": {},
   "outputs": [],
   "source": [
    "#Let's see if there is any tweet with at least one capital letter\n",
    "for string in X_train_raw:\n",
    "    if string.islower() == False:\n",
    "        print(string)\n",
    "#Nothing! This is very convenient :)"
   ]
  },
  {
   "cell_type": "markdown",
   "metadata": {},
   "source": [
    "# TEXT PREPROCESSING\n",
    "1. Remove all non-alphabetic characters (for example, numbers, apostrophes and punctuation characters) and URLs\n",
    "2. Tokenise the strings into words\n",
    "3. Remove all words that is not a valid English word\n",
    "4. Remove all remaining words that are only a single character\n",
    "5. Stemming (not lemmatization, because meaningful words are not needed to calculate sentiment, only the base words, and additionally, lemma takes more time to compute than stemming)\n",
    "\n",
    "NOTE: Some words mean more than others, e.g. 'impeccable' has a lot more meaning and value than 'good'.\n",
    "Bag of Words treats all words with equal weight, even though clearly some words worth more than others.\n",
    "Tf-Idf works around this problem by putting more weight to the words that has more meaning and less weight to the less important words.\n",
    "\n",
    "However, it doesn't matter whether a word has more meaning than others, e.g. 'beautiful' and 'exquisite', both of these words have (generally) positive sentiment. The machine learning algorithms do not know whether the superlative words have extremely positive or negative sentiment, and due to the rarity of such words (not enough training data), they are more prone to being misclassified.\n",
    "\n",
    "In this case, I think BoW is the better approach here, because only classifying sentiment is needed, not how strong a sentiment is. The words that don't contribute as much to the sentiment can be filtered out using feature selection, i.e. mutual information."
   ]
  },
  {
   "cell_type": "code",
   "execution_count": 26,
   "metadata": {},
   "outputs": [
    {
     "data": {
      "text/plain": [
       "['the',\n",
       " 'patriarchi',\n",
       " 'is',\n",
       " 'ruin',\n",
       " 'my',\n",
       " 'life',\n",
       " 'but',\n",
       " 'at',\n",
       " 'least',\n",
       " 'we',\n",
       " 'have',\n",
       " 'abort',\n",
       " 'right']"
      ]
     },
     "execution_count": 26,
     "metadata": {},
     "output_type": "execute_result"
    }
   ],
   "source": [
    "# code\n",
    "def preprocess_text(text):\n",
    "    # preprocesses a sentence according to the steps mentioned above\n",
    "    # note that converting all words to lowercase is not done by this function, \n",
    "    # as all the data given are already in lowercase\n",
    "    \n",
    "    # step 1: remove urls and punctuations\n",
    "    # this line is taken from https://gist.github.com/gruber/8891611 to match URLs\n",
    "    url = r\"\"\"(?i)\\b((?:https?:(?:/{1,3}|[a-z0-9%])|[a-z0-9.\\-]+[.](?:com|net|org|edu|gov|mil|aero|asia|biz|cat|coop|info|int|jobs|mobi|museum|name|post|pro|tel|travel|xxx|ac|ad|ae|af|ag|ai|al|am|an|ao|aq|ar|as|at|au|aw|ax|az|ba|bb|bd|be|bf|bg|bh|bi|bj|bm|bn|bo|br|bs|bt|bv|bw|by|bz|ca|cc|cd|cf|cg|ch|ci|ck|cl|cm|cn|co|cr|cs|cu|cv|cx|cy|cz|dd|de|dj|dk|dm|do|dz|ec|ee|eg|eh|er|es|et|eu|fi|fj|fk|fm|fo|fr|ga|gb|gd|ge|gf|gg|gh|gi|gl|gm|gn|gp|gq|gr|gs|gt|gu|gw|gy|hk|hm|hn|hr|ht|hu|id|ie|il|im|in|io|iq|ir|is|it|je|jm|jo|jp|ke|kg|kh|ki|km|kn|kp|kr|kw|ky|kz|la|lb|lc|li|lk|lr|ls|lt|lu|lv|ly|ma|mc|md|me|mg|mh|mk|ml|mm|mn|mo|mp|mq|mr|ms|mt|mu|mv|mw|mx|my|mz|na|nc|ne|nf|ng|ni|nl|no|np|nr|nu|nz|om|pa|pe|pf|pg|ph|pk|pl|pm|pn|pr|ps|pt|pw|py|qa|re|ro|rs|ru|rw|sa|sb|sc|sd|se|sg|sh|si|sj|Ja|sk|sl|sm|sn|so|sr|ss|st|su|sv|sx|sy|sz|tc|td|tf|tg|th|tj|tk|tl|tm|tn|to|tp|tr|tt|tv|tw|tz|ua|ug|uk|us|uy|uz|va|vc|ve|vg|vi|vn|vu|wf|ws|ye|yt|yu|za|zm|zw)/)(?:[^\\s()<>{}\\[\\]]+|\\([^\\s()]*?\\([^\\s()]+\\)[^\\s()]*?\\)|\\([^\\s]+?\\))+(?:\\([^\\s()]*?\\([^\\s()]+\\)[^\\s()]*?\\)|\\([^\\s]+?\\)|[^\\s`!()\\[\\]{};:'\".,<>?«»“”‘’])|(?:(?<!@)[a-z0-9]+(?:[.\\-][a-z0-9]+)*[.](?:com|net|org|edu|gov|mil|aero|asia|biz|cat|coop|info|int|jobs|mobi|museum|name|post|pro|tel|travel|xxx|ac|ad|ae|af|ag|ai|al|am|an|ao|aq|ar|as|at|au|aw|ax|az|ba|bb|bd|be|bf|bg|bh|bi|bj|bm|bn|bo|br|bs|bt|bv|bw|by|bz|ca|cc|cd|cf|cg|ch|ci|ck|cl|cm|cn|co|cr|cs|cu|cv|cx|cy|cz|dd|de|dj|dk|dm|do|dz|ec|ee|eg|eh|er|es|et|eu|fi|fj|fk|fm|fo|fr|ga|gb|gd|ge|gf|gg|gh|gi|gl|gm|gn|gp|gq|gr|gs|gt|gu|gw|gy|hk|hm|hn|hr|ht|hu|id|ie|il|im|in|io|iq|ir|is|it|je|jm|jo|jp|ke|kg|kh|ki|km|kn|kp|kr|kw|ky|kz|la|lb|lc|li|lk|lr|ls|lt|lu|lv|ly|ma|mc|md|me|mg|mh|mk|ml|mm|mn|mo|mp|mq|mr|ms|mt|mu|mv|mw|mx|my|mz|na|nc|ne|nf|ng|ni|nl|no|np|nr|nu|nz|om|pa|pe|pf|pg|ph|pk|pl|pm|pn|pr|ps|pt|pw|py|qa|re|ro|rs|ru|rw|sa|sb|sc|sd|se|sg|sh|si|sj|Ja|sk|sl|sm|sn|so|sr|ss|st|su|sv|sx|sy|sz|tc|td|tf|tg|th|tj|tk|tl|tm|tn|to|tp|tr|tt|tv|tw|tz|ua|ug|uk|us|uy|uz|va|vc|ve|vg|vi|vn|vu|wf|ws|ye|yt|yu|za|zm|zw)\\b/?(?!@)))\"\"\"   \n",
    "    alph = r'[^a-z\\sA-Z]'\n",
    "    text = re.sub(url + \"|\" + alph, ' ', text)\n",
    "    # step 2: tokenise into words\n",
    "    words = text.split()\n",
    "    # step 3: remove invalid English words and single-letter words\n",
    "    d = enchant.Dict('en')\n",
    "    # step 4: stemming\n",
    "    ps = PorterStemmer()\n",
    "    words = [ps.stem(i) for i in words if(d.check(i) == True) and (len(i) > 1)]\n",
    "    return words\n",
    "# the end result would look like this\n",
    "preprocess_text(X_train_raw[150])"
   ]
  },
  {
   "cell_type": "code",
   "execution_count": 27,
   "metadata": {},
   "outputs": [
    {
     "name": "stdout",
     "output_type": "stream",
     "text": [
      "['read the book sever time so watch to kill mockingbird as refresh befor to set watchman novel is releas on', 'don want to leav dure the middl of the match but don want to be dead for my tomorrow decis', 'alon music left libertarian some of them are alt rightist grant but they the norm within the pro side', 'they are absolut blind to good natur use lame excus to hate on him they just bitter still', 'hey toni saw you in the pit at foo fighter on but have the chanc to say hi did you have good even', 'would be nice score from one of those amaz and get on the field day for that would be good', 'don know how feel about it he wa quot or attempt to quot and in fact denounc the quot itself', 'kri homer in the bottom of the cub beat get to six of the', 'guess who want to do away medicar social secur eas wall street so we can have anoth hous crash rs', 'can believ it been year sinc lost my big brother today is hi birthday and tomorrow is mine when', 'via okay it is histor but how did women per becom so downgrad they give life']\n"
     ]
    }
   ],
   "source": [
    "def clean_dataset(data):\n",
    "    # preprocesses the entire string in a given dataset\n",
    "    data_cleaned = []\n",
    "    for text in data:\n",
    "        words = preprocess_text(text)\n",
    "        text_cleaned = ' '.join([i for i in words])\n",
    "        data_cleaned.append(text_cleaned)\n",
    "    return data_cleaned\n",
    "X_train_cleaned = clean_dataset(X_train_raw)\n",
    "# a sample of the end result for X_train\n",
    "print(X_train_cleaned[593:604])"
   ]
  },
  {
   "cell_type": "markdown",
   "metadata": {},
   "source": [
    "### 1. Bag of Words (BoW)\n",
    "In this approach, we use the **CountVectorizer** library to separate all the words in the Train corpus (dataset). These words are then used as the 'vectors' or 'features' to represent each instance (Tweet) in `Train` and `Test` datasets. "
   ]
  },
  {
   "cell_type": "code",
   "execution_count": 28,
   "metadata": {},
   "outputs": [],
   "source": [
    "X_test_cleaned = clean_dataset(X_test_raw)"
   ]
  },
  {
   "cell_type": "code",
   "execution_count": 29,
   "metadata": {},
   "outputs": [
    {
     "name": "stdout",
     "output_type": "stream",
     "text": [
      "Train feature space size (using BoW): (21802, 9460)\n",
      "Test feature space size (using BoW): (6099, 9460)\n",
      "\n",
      "Train feature space size (after resampling): (11145, 9460)\n"
     ]
    }
   ],
   "source": [
    "BoW_vectorizer = CountVectorizer()\n",
    "\n",
    "#Build the feature set (vocabulary) and vectorise the Tarin dataset using BoW\n",
    "X_train_BoW = BoW_vectorizer.fit_transform(X_train_cleaned)\n",
    "\n",
    "#Use the feature set (vocabulary) from Train to vectorise the Test dataset \n",
    "X_test_BoW = BoW_vectorizer.transform(X_test_cleaned)\n",
    "\n",
    "print(\"Train feature space size (using BoW):\",X_train_BoW.shape)\n",
    "print(\"Test feature space size (using BoW):\",X_test_BoW.shape)\n",
    "\n",
    "# the same train set but it is resampled such that the labels are distributed uniformly\n",
    "rus = RandomUnderSampler(random_state=0)\n",
    "X_resampled, Y_resampled = rus.fit_resample(X_train_BoW, Y_train)\n",
    "print(\"\\nTrain feature space size (after resampling):\",X_resampled.shape)"
   ]
  },
  {
   "cell_type": "code",
   "execution_count": 31,
   "metadata": {},
   "outputs": [],
   "source": [
    "# dpendencies for modelling and feature selection\n",
    "import numpy as np\n",
    "\n",
    "from sklearn.feature_selection import mutual_info_classif\n",
    "from sklearn.feature_selection import SelectKBest\n",
    "from sklearn.feature_selection import chi2\n",
    "\n",
    "from sklearn.model_selection import KFold\n",
    "from sklearn.model_selection import train_test_split\n",
    "from imblearn.over_sampling import RandomOverSampler\n",
    "\n",
    "from sklearn.metrics import confusion_matrix\n",
    "from sklearn.naive_bayes import MultinomialNB\n",
    "from sklearn import svm\n",
    "from sklearn.linear_model import LogisticRegression\n",
    "from sklearn.neighbors import KNeighborsClassifier\n",
    "\n",
    "from sklearn.metrics import accuracy_score"
   ]
  },
  {
   "cell_type": "code",
   "execution_count": 32,
   "metadata": {},
   "outputs": [],
   "source": [
    "n = 5\n",
    "kf = KFold(n_splits = n, shuffle = True)"
   ]
  },
  {
   "cell_type": "markdown",
   "metadata": {},
   "source": [
    "## Model #0: 0-R (baseline)"
   ]
  },
  {
   "cell_type": "code",
   "execution_count": 33,
   "metadata": {},
   "outputs": [
    {
     "name": "stdout",
     "output_type": "stream",
     "text": [
      "neutral\n",
      "accuracy:  0.5806348041464086\n",
      "\n",
      "the distribution of labels: \n",
      "positive:  5428   0.24896798458856986\n",
      "neutral:  12659   0.5806348041464086\n",
      "negative:  3715   0.17039721126502155\n"
     ]
    }
   ],
   "source": [
    "total = len(Y_train)\n",
    "label = ['positive', 'neutral', 'negative']\n",
    "count = []\n",
    "count.append(np.count_nonzero(Y_train == 'positive'))\n",
    "count.append(np.count_nonzero(Y_train == 'neutral'))\n",
    "count.append(np.count_nonzero(Y_train == 'negative'))\n",
    "pred = label[count.index(max(count))]\n",
    "print(pred)\n",
    "print(\"accuracy: \", max(count) / total)\n",
    "\n",
    "# the distribution of labels\n",
    "print(\"\\nthe distribution of labels: \")\n",
    "print(\"positive: \", count[0], \" \", count[0] / total)\n",
    "print(\"neutral: \", count[1], \" \", count[1] / total)\n",
    "print(\"negative: \", count[2], \" \", count[2] / total)\n"
   ]
  },
  {
   "cell_type": "markdown",
   "metadata": {},
   "source": [
    "## Model #1: Naive Bayes"
   ]
  },
  {
   "cell_type": "code",
   "execution_count": 35,
   "metadata": {},
   "outputs": [
    {
     "name": "stdout",
     "output_type": "stream",
     "text": [
      "average confusion matrix: \n",
      "[[ 329.   370.4   43.6]\n",
      " [ 268.8 1877.4  385.6]\n",
      " [  25.2  481.6  578.8]]\n",
      "average accuracy:  0.6387486562504602\n"
     ]
    }
   ],
   "source": [
    "NaiveBayes = MultinomialNB()\n",
    "conf_matrix = np.zeros((3, 3))\n",
    "accuracy = 0\n",
    "for train_index, test_index in kf.split(X_train_BoW):\n",
    "    X_kfcv_train, X_kfcv_test = X_train_BoW[train_index], X_train_BoW[test_index]\n",
    "    Y_kfcv_train, Y_kfcv_test = Y_train[train_index], Y_train[test_index]\n",
    "\n",
    "    NaiveBayes.fit(X_kfcv_train, Y_kfcv_train)\n",
    "    pred = NaiveBayes.predict(X_kfcv_test)\n",
    "    \n",
    "    conf_matrix = np.add(confusion_matrix(Y_kfcv_test, pred), conf_matrix)\n",
    "    accuracy += accuracy_score(pred, Y_kfcv_test)\n",
    "print(\"average confusion matrix: \")\n",
    "print(conf_matrix / n)\n",
    "print(\"average accuracy: \", accuracy / n)"
   ]
  },
  {
   "cell_type": "markdown",
   "metadata": {},
   "source": [
    "The accuracy score for the naive bayes model is approximately 0.632, which is an improvement from the baseline model. However, the distribution among labels in the train data is NOT THE SAME as the test data. This is evident by the 0-R score (0.58 for the given train dataset, 0.34 for a randomly chosen 40% of the test dataset). Since the 0-R value for the test data is close to 1/3, it can be assumed that the data has a uniform distribution, which, if a hypothesis test is performed (i.e. H0: train data is uniformly distributed vs H1: train data is not uniformly distributed), the null hypothesis is extremely likely to be rejected.\n",
    "\n",
    "Obivously, it cannot be said with 100% confidence that the test data is uniformly distributed, because only 40% of the sample is taken. However, since the 0-R value is 0.346, the worst case scenario where the test data is the furthest from being uniformly distributed is when the second and third labels are 0.308 and 0.346. Given that the sample size is considerably large (6099), I can say with extreme confidence that the full test data is uniformly distributed.\n",
    "\n",
    "Therefore, since the train and test data have different distributions, I will resample the train data such that the labels are distributed uniformly."
   ]
  },
  {
   "cell_type": "markdown",
   "metadata": {},
   "source": [
    "# Same method, resampled data"
   ]
  },
  {
   "cell_type": "markdown",
   "metadata": {},
   "source": [
    "## Model #0: 0-R (baseline)"
   ]
  },
  {
   "cell_type": "code",
   "execution_count": 36,
   "metadata": {},
   "outputs": [
    {
     "name": "stdout",
     "output_type": "stream",
     "text": [
      "positive\n",
      "accuracy:  0.3333333333333333\n",
      "\n",
      "the distribution of labels: \n",
      "positive:  3715   0.3333333333333333\n",
      "neutral:   3715   0.3333333333333333\n",
      "negative:  3715   0.3333333333333333\n"
     ]
    }
   ],
   "source": [
    "total = len(Y_resampled)\n",
    "label = ['positive', 'neutral', 'negative']\n",
    "count = []\n",
    "count.append(np.count_nonzero(Y_resampled == 'positive'))\n",
    "count.append(np.count_nonzero(Y_resampled == 'neutral'))\n",
    "count.append(np.count_nonzero(Y_resampled == 'negative'))\n",
    "pred = label[count.index(max(count))]\n",
    "print(pred)\n",
    "print(\"accuracy: \", max(count) / total)\n",
    "\n",
    "# the distribution of labels\n",
    "print(\"\\nthe distribution of labels: \")\n",
    "print(\"positive: \", count[0], \" \", count[0] / total)\n",
    "print(\"neutral:  \", count[1], \" \", count[1] / total)\n",
    "print(\"negative: \", count[2], \" \", count[2] / total)"
   ]
  },
  {
   "cell_type": "markdown",
   "metadata": {},
   "source": [
    "## Model #1: Naive Bayes"
   ]
  },
  {
   "cell_type": "code",
   "execution_count": 67,
   "metadata": {},
   "outputs": [
    {
     "name": "stdout",
     "output_type": "stream",
     "text": [
      "average confusion matrix: \n",
      "[[522.8 132.2  88. ]\n",
      " [208.4 301.2 233.4]\n",
      " [ 67.8 137.4 537.8]]\n",
      "average accuracy:  0.6109466128308658\n"
     ]
    }
   ],
   "source": [
    "accuracy = 0\n",
    "conf_matrix = np.zeros((3, 3))\n",
    "for train_index, test_index in kf.split(X_resampled):\n",
    "    X_kfcv_train, X_kfcv_test = X_resampled[train_index], X_resampled[test_index]\n",
    "    Y_kfcv_train, Y_kfcv_test = Y_resampled[train_index], Y_resampled[test_index]\n",
    "    \n",
    "    NaiveBayes.fit(X_kfcv_train, Y_kfcv_train)\n",
    "    pred = NaiveBayes.predict(X_kfcv_test)\n",
    "    \n",
    "    conf_matrix = np.add(confusion_matrix(Y_kfcv_test, pred), conf_matrix)\n",
    "    accuracy += accuracy_score(pred, Y_kfcv_test)\n",
    "print(\"average confusion matrix: \")\n",
    "print(conf_matrix / n)\n",
    "print(\"average accuracy: \", accuracy / n)"
   ]
  },
  {
   "cell_type": "markdown",
   "metadata": {},
   "source": [
    "The two cross-validations performed above does not involve any feature selection method whatsoever. I will implement chi square feature selection and run the same model again. However, the optimum number of features which should selected is not known (best k value for SelectKBest). In order to find the best k value, I plotted a graph for a range of k values (with a step of 50 rather than 1 due to runtime):"
   ]
  },
  {
   "cell_type": "code",
   "execution_count": 65,
   "metadata": {},
   "outputs": [
    {
     "data": {
      "image/png": "[encoded data removed]",
      "text/plain": [
       "<Figure size 432x288 with 1 Axes>"
      ]
     },
     "metadata": {
      "needs_background": "light"
     },
     "output_type": "display_data"
    },
    {
     "name": "stdout",
     "output_type": "stream",
     "text": [
      "best score:  0.6151637505607896\n",
      "with k value:  6200\n"
     ]
    }
   ],
   "source": [
    "# plot to find the best value for k in chi2\n",
    "import matplotlib.pyplot as plt\n",
    "\n",
    "scores_chi2 = []\n",
    "for i in range(100, X_resampled.shape[1], 100):\n",
    "    accuracy = 0\n",
    "    for train_index, test_index in kf.split(X_resampled):\n",
    "        X_kfcv_train, X_kfcv_test = X_resampled[train_index], X_resampled[test_index]\n",
    "        Y_kfcv_train, Y_kfcv_test = Y_resampled[train_index], Y_resampled[test_index]\n",
    "\n",
    "        chi2_test = SelectKBest(chi2, k=i)\n",
    "        X_train_chi2 = chi2_test.fit_transform(X_kfcv_train, Y_kfcv_train)\n",
    "        X_test_chi2 = chi2_test.transform(X_kfcv_test)\n",
    "\n",
    "        NaiveBayes.fit(X_train_chi2, Y_kfcv_train)\n",
    "        pred = NaiveBayes.predict(X_test_chi2)\n",
    "        accuracy += accuracy_score(pred, Y_kfcv_test)\n",
    "    scores_chi2.append(accuracy / n)\n",
    "\n",
    "x = list(range(100, X_resampled.shape[1], 100))\n",
    "plt.plot(x, scores_chi2)\n",
    "plt.ylim(0.55, 0.62)\n",
    "plt.ylabel(\"accuracy score\")\n",
    "plt.xlabel(\"k value\")\n",
    "plt.savefig(\"a2plots/chi2_nb.png\")\n",
    "plt.show()\n",
    "plt.close()\n",
    "print(\"best score: \", max(scores_chi2))\n",
    "print(\"with k value: \", x[scores_chi2.index(max(scores_chi2))])"
   ]
  },
  {
   "cell_type": "code",
   "execution_count": 66,
   "metadata": {},
   "outputs": [
    {
     "name": "stdout",
     "output_type": "stream",
     "text": [
      "6200\n",
      "8300\n",
      "7200\n",
      "8500\n",
      "5900\n"
     ]
    }
   ],
   "source": [
    "# let's check out the top 4 k value\n",
    "sorted_chi2 = sorted(scores_chi2, reverse=True)\n",
    "print(x[scores_chi2.index(sorted_chi2[0])])  # best k value\n",
    "print(x[scores_chi2.index(sorted_chi2[1])])  # 2nd best k value\n",
    "print(x[scores_chi2.index(sorted_chi2[2])])  # etc\n",
    "print(x[scores_chi2.index(sorted_chi2[3])])\n",
    "print(x[scores_chi2.index(sorted_chi2[4])])"
   ]
  },
  {
   "cell_type": "markdown",
   "metadata": {},
   "source": [
    "It seems that feature selction has little effect on the performance of the model.\n",
    "#### Final result for naive bayes:"
   ]
  },
  {
   "cell_type": "code",
   "execution_count": 55,
   "metadata": {},
   "outputs": [
    {
     "name": "stdout",
     "output_type": "stream",
     "text": [
      "average confusion matrix: \n",
      "[[526.6 130.8  85.6]\n",
      " [207.4 299.2 236.4]\n",
      " [ 67.2 135.6 540.2]]\n",
      "average accuracy:  0.6128308658591297\n"
     ]
    }
   ],
   "source": [
    "### FINAL RESULT FOR NAIVE BAYES:\n",
    "conf_matrix = np.zeros((3, 3))\n",
    "accuracy = 0\n",
    "for train_index, test_index in kf.split(X_resampled):    \n",
    "    X_kfcv_train, X_kfcv_test = X_resampled[train_index], X_resampled[test_index]\n",
    "    Y_kfcv_train, Y_kfcv_test = Y_resampled[train_index], Y_resampled[test_index]\n",
    "    \n",
    "    chi2_test = SelectKBest(chi2, k=8000)\n",
    "    X_train_chi2 = chi2_test.fit_transform(X_kfcv_train, Y_kfcv_train)\n",
    "    X_test_chi2 = chi2_test.transform(X_kfcv_test)\n",
    "\n",
    "    NaiveBayes.fit(X_train_chi2, Y_kfcv_train)\n",
    "    pred = NaiveBayes.predict(X_test_chi2)\n",
    "    \n",
    "    conf_matrix = np.add(confusion_matrix(Y_kfcv_test, pred), conf_matrix)   \n",
    "    accuracy += accuracy_score(pred, Y_kfcv_test)\n",
    "print(\"average confusion matrix: \")\n",
    "print(conf_matrix / n)\n",
    "print(\"average accuracy: \", accuracy / n)"
   ]
  },
  {
   "cell_type": "markdown",
   "metadata": {},
   "source": [
    "## Model #2: logistic regression"
   ]
  },
  {
   "cell_type": "code",
   "execution_count": 41,
   "metadata": {},
   "outputs": [
    {
     "name": "stdout",
     "output_type": "stream",
     "text": [
      "average confusion matrix: \n",
      "[[479.2 191.6  72.2]\n",
      " [178.  369.6 195.4]\n",
      " [ 56.  194.6 492.4]]\n",
      "average accuracy:  0.6017048003589054\n"
     ]
    }
   ],
   "source": [
    "lr = LogisticRegression(max_iter=2000, multi_class='multinomial')\n",
    "conf_matrix = np.zeros((3, 3))\n",
    "accuracy = 0\n",
    "for train_index, test_index in kf.split(X_resampled):    \n",
    "    X_kfcv_train, X_kfcv_test = X_resampled[train_index], X_resampled[test_index]\n",
    "    Y_kfcv_train, Y_kfcv_test = Y_resampled[train_index], Y_resampled[test_index]\n",
    "    \n",
    "    lr.fit(X_kfcv_train, Y_kfcv_train)\n",
    "    pred = lr.predict(X_kfcv_test)\n",
    "    \n",
    "    conf_matrix = np.add(confusion_matrix(Y_kfcv_test, pred), conf_matrix)\n",
    "    accuracy += accuracy_score(pred, Y_kfcv_test)\n",
    "print(\"average confusion matrix: \")\n",
    "print(conf_matrix / n)\n",
    "print(\"average accuracy: \", accuracy / n)"
   ]
  },
  {
   "cell_type": "markdown",
   "metadata": {},
   "source": [
    "This model performs slightly worse than naive bayes. Now let's see what happens if we use the same feature selection method."
   ]
  },
  {
   "cell_type": "code",
   "execution_count": null,
   "metadata": {},
   "outputs": [],
   "source": [
    "n = 5\n",
    "kf = KFold(n_splits = n, shuffle = True)"
   ]
  },
  {
   "cell_type": "code",
   "execution_count": 61,
   "metadata": {},
   "outputs": [
    {
     "data": {
      "image/png": "[encoded data removed]",
      "text/plain": [
       "<Figure size 432x288 with 1 Axes>"
      ]
     },
     "metadata": {
      "needs_background": "light"
     },
     "output_type": "display_data"
    },
    {
     "name": "stdout",
     "output_type": "stream",
     "text": [
      "best score:  0.6154329295648273\n",
      "with k value:  1200\n"
     ]
    }
   ],
   "source": [
    "## THIS TAKES 5-8 MINUTES, GIVE OR TAKE.\n",
    "#  To reduce runtime, either decrease the number of folds or increase the step value in range().\n",
    "#  Although if the number of folds are reduced, the graph will look more zig-zaggy, due to this thing called ***variance***   \n",
    "#  and if the step value is increased, there is a higher chance a trend on the graph might be missed\n",
    "scores_chi2 = []\n",
    "for i in range(100, X_resampled.shape[1], 100):\n",
    "    accuracy = 0\n",
    "    for train_index, test_index in kf.split(X_resampled):\n",
    "        X_kfcv_train, X_kfcv_test = X_resampled[train_index], X_resampled[test_index]\n",
    "        Y_kfcv_train, Y_kfcv_test = Y_resampled[train_index], Y_resampled[test_index]\n",
    "\n",
    "        chi2_test = SelectKBest(chi2, k=i)\n",
    "        X_train_chi2 = chi2_test.fit_transform(X_kfcv_train, Y_kfcv_train)\n",
    "        X_test_chi2 = chi2_test.transform(X_kfcv_test)\n",
    "\n",
    "        lr.fit(X_train_chi2, Y_kfcv_train)\n",
    "        pred = lr.predict(X_test_chi2)\n",
    "        accuracy += accuracy_score(pred, Y_kfcv_test)\n",
    "    scores_chi2.append(accuracy / n)\n",
    "\n",
    "x = list(range(100, X_resampled.shape[1], 100))\n",
    "plt.plot(x, scores_chi2)\n",
    "plt.ylim(0.55, 0.62)\n",
    "plt.ylabel(\"accuracy score\")\n",
    "plt.xlabel(\"k value\")\n",
    "plt.savefig(\"a2plots/chi2_lr.png\")\n",
    "plt.show()\n",
    "plt.close()\n",
    "print(\"best score: \", max(scores_chi2))\n",
    "print(\"with k value: \", x[scores_chi2.index(max(scores_chi2))])"
   ]
  },
  {
   "cell_type": "code",
   "execution_count": 62,
   "metadata": {},
   "outputs": [
    {
     "name": "stdout",
     "output_type": "stream",
     "text": [
      "1200\n",
      "1100\n",
      "900\n",
      "1600\n",
      "3000\n"
     ]
    }
   ],
   "source": [
    "# let's check out the top 4 k value\n",
    "sorted_chi2 = sorted(scores_chi2, reverse=True)\n",
    "print(x[scores_chi2.index(sorted_chi2[0])])  # best k value\n",
    "print(x[scores_chi2.index(sorted_chi2[1])])  # 2nd best k value\n",
    "print(x[scores_chi2.index(sorted_chi2[2])])  # etc\n",
    "print(x[scores_chi2.index(sorted_chi2[3])])\n",
    "print(x[scores_chi2.index(sorted_chi2[4])])"
   ]
  },
  {
   "cell_type": "markdown",
   "metadata": {},
   "source": [
    "The best value for k when doing logistic regression is drastically different compared to naive bayes. Nevertheless, the accuracy score of the two models, when using the optimum k value, ends up being similar.\n",
    "\n",
    "#### Why is the best k value different for both models?\n",
    "The most likely reason is the \"naivity\" of naive bayes by assuming the independence among all features. As a result, naive bayes performs better on high-dimenstional data. This is because data with a high number of features are generally closer to being independent compared to data with a low number of features. In contrast, logistic regression considers the dependence among features. Hence, adding more features in the dataset will only add more noise and, as a result, make it more difficult for the model to predict the correct label. Hence, as shown on the graph, naive bayes performs better when k is high, and logistic regression performs better when k is low.\n",
    "\n",
    "#### Final result for logistic regresssion:"
   ]
  },
  {
   "cell_type": "code",
   "execution_count": 51,
   "metadata": {},
   "outputs": [
    {
     "name": "stdout",
     "output_type": "stream",
     "text": [
      "average confusion matrix: \n",
      "[[483.2 192.8  67. ]\n",
      " [169.4 394.2 179.4]\n",
      " [ 59.  201.2 482.8]]\n",
      "average accuracy:  0.6102288021534321\n"
     ]
    }
   ],
   "source": [
    "### FINAL RESULT FOR LOGISTIC REGRESSION:\n",
    "conf_matrix = np.zeros((3, 3))\n",
    "accuracy = 0\n",
    "for train_index, test_index in kf.split(X_resampled):\n",
    "    X_kfcv_train, X_kfcv_test = X_resampled[train_index], X_resampled[test_index]\n",
    "    Y_kfcv_train, Y_kfcv_test = Y_resampled[train_index], Y_resampled[test_index]\n",
    "    \n",
    "    chi2_test = SelectKBest(chi2, k=1000)  # roughly the k value where the model performed best\n",
    "    X_train_chi2 = chi2_test.fit_transform(X_kfcv_train, Y_kfcv_train)\n",
    "    X_test_chi2 = chi2_test.transform(X_kfcv_test)\n",
    "\n",
    "    lr.fit(X_train_chi2, Y_kfcv_train)\n",
    "    pred = lr.predict(X_test_chi2)\n",
    "    \n",
    "    conf_matrix = np.add(confusion_matrix(Y_kfcv_test, pred), conf_matrix)    \n",
    "    accuracy += accuracy_score(pred, Y_kfcv_test)\n",
    "print(\"average confusion matrix: \")\n",
    "print(conf_matrix / n)\n",
    "print(\"average accuracy: \", accuracy / n)"
   ]
  },
  {
   "cell_type": "markdown",
   "metadata": {},
   "source": [
    "### Conclusion\n",
    "Ultimately, although both models perform similarly, naive bayes is my preferred model because naive bayes has superior runtime compared to linear regression."
   ]
  },
  {
   "cell_type": "markdown",
   "metadata": {},
   "source": [
    "## Output into CSV file using the best-performing model"
   ]
  },
  {
   "cell_type": "code",
   "execution_count": 68,
   "metadata": {},
   "outputs": [],
   "source": [
    "x_tts_train, x_tts_test, y_tts_train, y_tts_test = train_test_split(X_resampled, Y_resampled)\n",
    "\n",
    "chi2_test = SelectKBest(chi2, k=8000)\n",
    "X_train_chi2 = chi2_test.fit_transform(x_tts_train, y_tts_train)\n",
    "X_test_chi2 = chi2_test.transform(X_test_BoW)\n",
    "\n",
    "NaiveBayes.fit(X_train_chi2, y_tts_train)\n",
    "output = NaiveBayes.predict(X_test_chi2)\n",
    "X_test_id = [x[0] for x in test_data[['id']].values]\n",
    "\n",
    "df = pd.DataFrame({'id': X_test_id, 'sentiment': output})\n",
    "df.to_csv('output.csv', index=False)\n"
   ]
  },
  {
   "cell_type": "markdown",
   "metadata": {},
   "source": [
    "# REFERENCES"
   ]
  },
  {
   "cell_type": "markdown",
   "metadata": {},
   "source": [
    "Gruber 2014, *Liberal, Accurate Regex Pattern for Matching Web URLs*, accessed 4 May 2022,\\<https://gist.github.com/gruber/8891611>.\n",
    "\n",
    "The imbalanced-learn developers 2014, *Under-sampling — Version 0.9.0.*, accessed 10 May 2022,\n",
    "\\<https://imbalanced-learn.org/stable/under_sampling.html>.\n",
    "\n",
    "Ryan Kelly 2011, *Tutorial — PyEnchant 3.2.2 documentation.*, accessed 7 May 2022,\n",
    "\\<https://pyenchant.github.io/pyenchant/tutorial.html>"
   ]
  }
 ],
 "metadata": {
  "kernelspec": {
   "display_name": "Python 3 (ipykernel)",
   "language": "python",
   "name": "python3"
  },
  "language_info": {
   "codemirror_mode": {
    "name": "ipython",
    "version": 3
   },
   "file_extension": ".py",
   "mimetype": "text/x-python",
   "name": "python",
   "nbconvert_exporter": "python",
   "pygments_lexer": "ipython3",
   "version": "3.9.7"
  }
 },
 "nbformat": 4,
 "nbformat_minor": 4
}
